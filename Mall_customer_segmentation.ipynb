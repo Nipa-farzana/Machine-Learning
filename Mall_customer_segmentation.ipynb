{
  "nbformat": 4,
  "nbformat_minor": 0,
  "metadata": {
    "colab": {
      "provenance": [],
      "mount_file_id": "1hGe9TKYIkK0Y9rrQYVCEyucXX7Ox_OkO",
      "authorship_tag": "ABX9TyPC/fbuEFirWwCUopVm8qJS",
      "include_colab_link": true
    },
    "kernelspec": {
      "name": "python3",
      "display_name": "Python 3"
    },
    "language_info": {
      "name": "python"
    }
  },
  "cells": [
    {
      "cell_type": "markdown",
      "metadata": {
        "id": "view-in-github",
        "colab_type": "text"
      },
      "source": [
        "<a href=\"https://colab.research.google.com/github/nipa010/Machine-Learning/blob/main/Mall_customer_segmentation.ipynb\" target=\"_parent\"><img src=\"https://colab.research.google.com/assets/colab-badge.svg\" alt=\"Open In Colab\"/></a>"
      ]
    },
    {
      "cell_type": "code",
      "execution_count": null,
      "metadata": {
        "id": "oiN2YRY0T4uC",
        "colab": {
          "base_uri": "https://localhost:8080/",
          "height": 17
        },
        "outputId": "34c4243e-7857-4783-c29c-ce2cc46e7b7c"
      },
      "outputs": [
        {
          "output_type": "display_data",
          "data": {
            "text/html": [
              "        <script type=\"text/javascript\">\n",
              "        window.PlotlyConfig = {MathJaxConfig: 'local'};\n",
              "        if (window.MathJax && window.MathJax.Hub && window.MathJax.Hub.Config) {window.MathJax.Hub.Config({SVG: {font: \"STIX-Web\"}});}\n",
              "        if (typeof require !== 'undefined') {\n",
              "        require.undef(\"plotly\");\n",
              "        requirejs.config({\n",
              "            paths: {\n",
              "                'plotly': ['https://cdn.plot.ly/plotly-2.24.1.min']\n",
              "            }\n",
              "        });\n",
              "        require(['plotly'], function(Plotly) {\n",
              "            window._Plotly = Plotly;\n",
              "        });\n",
              "        }\n",
              "        </script>\n",
              "        "
            ]
          },
          "metadata": {}
        }
      ],
      "source": [
        "# for visualizations\n",
        "import matplotlib.pyplot as plt\n",
        "import seaborn as sns\n",
        "plt.style.use('fivethirtyeight')\n",
        "\n",
        "# for interactive visualizations\n",
        "import plotly.offline as py\n",
        "from plotly.offline import init_notebook_mode, iplot\n",
        "import plotly.graph_objs as go\n",
        "from plotly import tools\n",
        "init_notebook_mode(connected = True)\n",
        "import plotly.figure_factory as ff\n",
        "import numpy as np\n",
        "import pandas as pd\n",
        "import matplotlib.pyplot as plt\n",
        "from sklearn.cluster import KMeans\n",
        "from sklearn.decomposition import PCA\n",
        "from sklearn.metrics import silhouette_score\n",
        "import matplotlib.pyplot as plt\n",
        "from sklearn.datasets import make_blobs\n",
        "from sklearn.cluster import KMeans\n",
        "\n",
        "\n",
        "import seaborn as sns\n",
        "plt.style.use('ggplot')\n"
      ]
    },
    {
      "cell_type": "code",
      "source": [
        "customer_data = pd.read_csv('/content/Wholesale-customers-data.csv')"
      ],
      "metadata": {
        "id": "eFLvj6OYW1I-"
      },
      "execution_count": null,
      "outputs": []
    },
    {
      "cell_type": "code",
      "source": [
        "customer_data.head()"
      ],
      "metadata": {
        "colab": {
          "base_uri": "https://localhost:8080/",
          "height": 206
        },
        "id": "kNWwrH0nbaeh",
        "outputId": "f244fd30-4c56-49d9-8c8c-c31f36ecf022"
      },
      "execution_count": null,
      "outputs": [
        {
          "output_type": "execute_result",
          "data": {
            "text/plain": [
              "   Channel  Region  Fresh  Milk  Grocery  Frozen  Detergents_Paper  \\\n",
              "0        2       3  12669  9656     7561     214              2674   \n",
              "1        2       3   7057  9810     9568    1762              3293   \n",
              "2        2       3   6353  8808     7684    2405              3516   \n",
              "3        1       3  13265  1196     4221    6404               507   \n",
              "4        2       3  22615  5410     7198    3915              1777   \n",
              "\n",
              "   Delicassen  Age  Anual Income  Spending Score  Gender  \n",
              "0        1338  NaN           NaN             NaN     NaN  \n",
              "1        1776  NaN           NaN             NaN     NaN  \n",
              "2        7844  NaN           NaN             NaN     NaN  \n",
              "3        1788  NaN           NaN             NaN     NaN  \n",
              "4        5185  NaN           NaN             NaN     NaN  "
            ],
            "text/html": [
              "\n",
              "  <div id=\"df-913bb823-2ddc-487f-b676-fd1367984d0f\" class=\"colab-df-container\">\n",
              "    <div>\n",
              "<style scoped>\n",
              "    .dataframe tbody tr th:only-of-type {\n",
              "        vertical-align: middle;\n",
              "    }\n",
              "\n",
              "    .dataframe tbody tr th {\n",
              "        vertical-align: top;\n",
              "    }\n",
              "\n",
              "    .dataframe thead th {\n",
              "        text-align: right;\n",
              "    }\n",
              "</style>\n",
              "<table border=\"1\" class=\"dataframe\">\n",
              "  <thead>\n",
              "    <tr style=\"text-align: right;\">\n",
              "      <th></th>\n",
              "      <th>Channel</th>\n",
              "      <th>Region</th>\n",
              "      <th>Fresh</th>\n",
              "      <th>Milk</th>\n",
              "      <th>Grocery</th>\n",
              "      <th>Frozen</th>\n",
              "      <th>Detergents_Paper</th>\n",
              "      <th>Delicassen</th>\n",
              "      <th>Age</th>\n",
              "      <th>Anual Income</th>\n",
              "      <th>Spending Score</th>\n",
              "      <th>Gender</th>\n",
              "    </tr>\n",
              "  </thead>\n",
              "  <tbody>\n",
              "    <tr>\n",
              "      <th>0</th>\n",
              "      <td>2</td>\n",
              "      <td>3</td>\n",
              "      <td>12669</td>\n",
              "      <td>9656</td>\n",
              "      <td>7561</td>\n",
              "      <td>214</td>\n",
              "      <td>2674</td>\n",
              "      <td>1338</td>\n",
              "      <td>NaN</td>\n",
              "      <td>NaN</td>\n",
              "      <td>NaN</td>\n",
              "      <td>NaN</td>\n",
              "    </tr>\n",
              "    <tr>\n",
              "      <th>1</th>\n",
              "      <td>2</td>\n",
              "      <td>3</td>\n",
              "      <td>7057</td>\n",
              "      <td>9810</td>\n",
              "      <td>9568</td>\n",
              "      <td>1762</td>\n",
              "      <td>3293</td>\n",
              "      <td>1776</td>\n",
              "      <td>NaN</td>\n",
              "      <td>NaN</td>\n",
              "      <td>NaN</td>\n",
              "      <td>NaN</td>\n",
              "    </tr>\n",
              "    <tr>\n",
              "      <th>2</th>\n",
              "      <td>2</td>\n",
              "      <td>3</td>\n",
              "      <td>6353</td>\n",
              "      <td>8808</td>\n",
              "      <td>7684</td>\n",
              "      <td>2405</td>\n",
              "      <td>3516</td>\n",
              "      <td>7844</td>\n",
              "      <td>NaN</td>\n",
              "      <td>NaN</td>\n",
              "      <td>NaN</td>\n",
              "      <td>NaN</td>\n",
              "    </tr>\n",
              "    <tr>\n",
              "      <th>3</th>\n",
              "      <td>1</td>\n",
              "      <td>3</td>\n",
              "      <td>13265</td>\n",
              "      <td>1196</td>\n",
              "      <td>4221</td>\n",
              "      <td>6404</td>\n",
              "      <td>507</td>\n",
              "      <td>1788</td>\n",
              "      <td>NaN</td>\n",
              "      <td>NaN</td>\n",
              "      <td>NaN</td>\n",
              "      <td>NaN</td>\n",
              "    </tr>\n",
              "    <tr>\n",
              "      <th>4</th>\n",
              "      <td>2</td>\n",
              "      <td>3</td>\n",
              "      <td>22615</td>\n",
              "      <td>5410</td>\n",
              "      <td>7198</td>\n",
              "      <td>3915</td>\n",
              "      <td>1777</td>\n",
              "      <td>5185</td>\n",
              "      <td>NaN</td>\n",
              "      <td>NaN</td>\n",
              "      <td>NaN</td>\n",
              "      <td>NaN</td>\n",
              "    </tr>\n",
              "  </tbody>\n",
              "</table>\n",
              "</div>\n",
              "    <div class=\"colab-df-buttons\">\n",
              "\n",
              "  <div class=\"colab-df-container\">\n",
              "    <button class=\"colab-df-convert\" onclick=\"convertToInteractive('df-913bb823-2ddc-487f-b676-fd1367984d0f')\"\n",
              "            title=\"Convert this dataframe to an interactive table.\"\n",
              "            style=\"display:none;\">\n",
              "\n",
              "  <svg xmlns=\"http://www.w3.org/2000/svg\" height=\"24px\" viewBox=\"0 -960 960 960\">\n",
              "    <path d=\"M120-120v-720h720v720H120Zm60-500h600v-160H180v160Zm220 220h160v-160H400v160Zm0 220h160v-160H400v160ZM180-400h160v-160H180v160Zm440 0h160v-160H620v160ZM180-180h160v-160H180v160Zm440 0h160v-160H620v160Z\"/>\n",
              "  </svg>\n",
              "    </button>\n",
              "\n",
              "  <style>\n",
              "    .colab-df-container {\n",
              "      display:flex;\n",
              "      gap: 12px;\n",
              "    }\n",
              "\n",
              "    .colab-df-convert {\n",
              "      background-color: #E8F0FE;\n",
              "      border: none;\n",
              "      border-radius: 50%;\n",
              "      cursor: pointer;\n",
              "      display: none;\n",
              "      fill: #1967D2;\n",
              "      height: 32px;\n",
              "      padding: 0 0 0 0;\n",
              "      width: 32px;\n",
              "    }\n",
              "\n",
              "    .colab-df-convert:hover {\n",
              "      background-color: #E2EBFA;\n",
              "      box-shadow: 0px 1px 2px rgba(60, 64, 67, 0.3), 0px 1px 3px 1px rgba(60, 64, 67, 0.15);\n",
              "      fill: #174EA6;\n",
              "    }\n",
              "\n",
              "    .colab-df-buttons div {\n",
              "      margin-bottom: 4px;\n",
              "    }\n",
              "\n",
              "    [theme=dark] .colab-df-convert {\n",
              "      background-color: #3B4455;\n",
              "      fill: #D2E3FC;\n",
              "    }\n",
              "\n",
              "    [theme=dark] .colab-df-convert:hover {\n",
              "      background-color: #434B5C;\n",
              "      box-shadow: 0px 1px 3px 1px rgba(0, 0, 0, 0.15);\n",
              "      filter: drop-shadow(0px 1px 2px rgba(0, 0, 0, 0.3));\n",
              "      fill: #FFFFFF;\n",
              "    }\n",
              "  </style>\n",
              "\n",
              "    <script>\n",
              "      const buttonEl =\n",
              "        document.querySelector('#df-913bb823-2ddc-487f-b676-fd1367984d0f button.colab-df-convert');\n",
              "      buttonEl.style.display =\n",
              "        google.colab.kernel.accessAllowed ? 'block' : 'none';\n",
              "\n",
              "      async function convertToInteractive(key) {\n",
              "        const element = document.querySelector('#df-913bb823-2ddc-487f-b676-fd1367984d0f');\n",
              "        const dataTable =\n",
              "          await google.colab.kernel.invokeFunction('convertToInteractive',\n",
              "                                                    [key], {});\n",
              "        if (!dataTable) return;\n",
              "\n",
              "        const docLinkHtml = 'Like what you see? Visit the ' +\n",
              "          '<a target=\"_blank\" href=https://colab.research.google.com/notebooks/data_table.ipynb>data table notebook</a>'\n",
              "          + ' to learn more about interactive tables.';\n",
              "        element.innerHTML = '';\n",
              "        dataTable['output_type'] = 'display_data';\n",
              "        await google.colab.output.renderOutput(dataTable, element);\n",
              "        const docLink = document.createElement('div');\n",
              "        docLink.innerHTML = docLinkHtml;\n",
              "        element.appendChild(docLink);\n",
              "      }\n",
              "    </script>\n",
              "  </div>\n",
              "\n",
              "\n",
              "<div id=\"df-c7fa1a68-78cb-444e-9c0b-7fac1a710ca0\">\n",
              "  <button class=\"colab-df-quickchart\" onclick=\"quickchart('df-c7fa1a68-78cb-444e-9c0b-7fac1a710ca0')\"\n",
              "            title=\"Suggest charts\"\n",
              "            style=\"display:none;\">\n",
              "\n",
              "<svg xmlns=\"http://www.w3.org/2000/svg\" height=\"24px\"viewBox=\"0 0 24 24\"\n",
              "     width=\"24px\">\n",
              "    <g>\n",
              "        <path d=\"M19 3H5c-1.1 0-2 .9-2 2v14c0 1.1.9 2 2 2h14c1.1 0 2-.9 2-2V5c0-1.1-.9-2-2-2zM9 17H7v-7h2v7zm4 0h-2V7h2v10zm4 0h-2v-4h2v4z\"/>\n",
              "    </g>\n",
              "</svg>\n",
              "  </button>\n",
              "\n",
              "<style>\n",
              "  .colab-df-quickchart {\n",
              "      --bg-color: #E8F0FE;\n",
              "      --fill-color: #1967D2;\n",
              "      --hover-bg-color: #E2EBFA;\n",
              "      --hover-fill-color: #174EA6;\n",
              "      --disabled-fill-color: #AAA;\n",
              "      --disabled-bg-color: #DDD;\n",
              "  }\n",
              "\n",
              "  [theme=dark] .colab-df-quickchart {\n",
              "      --bg-color: #3B4455;\n",
              "      --fill-color: #D2E3FC;\n",
              "      --hover-bg-color: #434B5C;\n",
              "      --hover-fill-color: #FFFFFF;\n",
              "      --disabled-bg-color: #3B4455;\n",
              "      --disabled-fill-color: #666;\n",
              "  }\n",
              "\n",
              "  .colab-df-quickchart {\n",
              "    background-color: var(--bg-color);\n",
              "    border: none;\n",
              "    border-radius: 50%;\n",
              "    cursor: pointer;\n",
              "    display: none;\n",
              "    fill: var(--fill-color);\n",
              "    height: 32px;\n",
              "    padding: 0;\n",
              "    width: 32px;\n",
              "  }\n",
              "\n",
              "  .colab-df-quickchart:hover {\n",
              "    background-color: var(--hover-bg-color);\n",
              "    box-shadow: 0 1px 2px rgba(60, 64, 67, 0.3), 0 1px 3px 1px rgba(60, 64, 67, 0.15);\n",
              "    fill: var(--button-hover-fill-color);\n",
              "  }\n",
              "\n",
              "  .colab-df-quickchart-complete:disabled,\n",
              "  .colab-df-quickchart-complete:disabled:hover {\n",
              "    background-color: var(--disabled-bg-color);\n",
              "    fill: var(--disabled-fill-color);\n",
              "    box-shadow: none;\n",
              "  }\n",
              "\n",
              "  .colab-df-spinner {\n",
              "    border: 2px solid var(--fill-color);\n",
              "    border-color: transparent;\n",
              "    border-bottom-color: var(--fill-color);\n",
              "    animation:\n",
              "      spin 1s steps(1) infinite;\n",
              "  }\n",
              "\n",
              "  @keyframes spin {\n",
              "    0% {\n",
              "      border-color: transparent;\n",
              "      border-bottom-color: var(--fill-color);\n",
              "      border-left-color: var(--fill-color);\n",
              "    }\n",
              "    20% {\n",
              "      border-color: transparent;\n",
              "      border-left-color: var(--fill-color);\n",
              "      border-top-color: var(--fill-color);\n",
              "    }\n",
              "    30% {\n",
              "      border-color: transparent;\n",
              "      border-left-color: var(--fill-color);\n",
              "      border-top-color: var(--fill-color);\n",
              "      border-right-color: var(--fill-color);\n",
              "    }\n",
              "    40% {\n",
              "      border-color: transparent;\n",
              "      border-right-color: var(--fill-color);\n",
              "      border-top-color: var(--fill-color);\n",
              "    }\n",
              "    60% {\n",
              "      border-color: transparent;\n",
              "      border-right-color: var(--fill-color);\n",
              "    }\n",
              "    80% {\n",
              "      border-color: transparent;\n",
              "      border-right-color: var(--fill-color);\n",
              "      border-bottom-color: var(--fill-color);\n",
              "    }\n",
              "    90% {\n",
              "      border-color: transparent;\n",
              "      border-bottom-color: var(--fill-color);\n",
              "    }\n",
              "  }\n",
              "</style>\n",
              "\n",
              "  <script>\n",
              "    async function quickchart(key) {\n",
              "      const quickchartButtonEl =\n",
              "        document.querySelector('#' + key + ' button');\n",
              "      quickchartButtonEl.disabled = true;  // To prevent multiple clicks.\n",
              "      quickchartButtonEl.classList.add('colab-df-spinner');\n",
              "      try {\n",
              "        const charts = await google.colab.kernel.invokeFunction(\n",
              "            'suggestCharts', [key], {});\n",
              "      } catch (error) {\n",
              "        console.error('Error during call to suggestCharts:', error);\n",
              "      }\n",
              "      quickchartButtonEl.classList.remove('colab-df-spinner');\n",
              "      quickchartButtonEl.classList.add('colab-df-quickchart-complete');\n",
              "    }\n",
              "    (() => {\n",
              "      let quickchartButtonEl =\n",
              "        document.querySelector('#df-c7fa1a68-78cb-444e-9c0b-7fac1a710ca0 button');\n",
              "      quickchartButtonEl.style.display =\n",
              "        google.colab.kernel.accessAllowed ? 'block' : 'none';\n",
              "    })();\n",
              "  </script>\n",
              "</div>\n",
              "\n",
              "    </div>\n",
              "  </div>\n"
            ],
            "application/vnd.google.colaboratory.intrinsic+json": {
              "type": "dataframe",
              "variable_name": "customer_data",
              "summary": "{\n  \"name\": \"customer_data\",\n  \"rows\": 440,\n  \"fields\": [\n    {\n      \"column\": \"Channel\",\n      \"properties\": {\n        \"dtype\": \"number\",\n        \"std\": 0,\n        \"min\": 1,\n        \"max\": 2,\n        \"num_unique_values\": 2,\n        \"samples\": [\n          1,\n          2\n        ],\n        \"semantic_type\": \"\",\n        \"description\": \"\"\n      }\n    },\n    {\n      \"column\": \"Region\",\n      \"properties\": {\n        \"dtype\": \"number\",\n        \"std\": 0,\n        \"min\": 1,\n        \"max\": 3,\n        \"num_unique_values\": 3,\n        \"samples\": [\n          3,\n          1\n        ],\n        \"semantic_type\": \"\",\n        \"description\": \"\"\n      }\n    },\n    {\n      \"column\": \"Fresh\",\n      \"properties\": {\n        \"dtype\": \"number\",\n        \"std\": 12647,\n        \"min\": 3,\n        \"max\": 112151,\n        \"num_unique_values\": 433,\n        \"samples\": [\n          21117,\n          20398\n        ],\n        \"semantic_type\": \"\",\n        \"description\": \"\"\n      }\n    },\n    {\n      \"column\": \"Milk\",\n      \"properties\": {\n        \"dtype\": \"number\",\n        \"std\": 7380,\n        \"min\": 55,\n        \"max\": 73498,\n        \"num_unique_values\": 421,\n        \"samples\": [\n          8384,\n          7184\n        ],\n        \"semantic_type\": \"\",\n        \"description\": \"\"\n      }\n    },\n    {\n      \"column\": \"Grocery\",\n      \"properties\": {\n        \"dtype\": \"number\",\n        \"std\": 9503,\n        \"min\": 3,\n        \"max\": 92780,\n        \"num_unique_values\": 430,\n        \"samples\": [\n          5160,\n          3\n        ],\n        \"semantic_type\": \"\",\n        \"description\": \"\"\n      }\n    },\n    {\n      \"column\": \"Frozen\",\n      \"properties\": {\n        \"dtype\": \"number\",\n        \"std\": 4854,\n        \"min\": 25,\n        \"max\": 60869,\n        \"num_unique_values\": 426,\n        \"samples\": [\n          269,\n          7530\n        ],\n        \"semantic_type\": \"\",\n        \"description\": \"\"\n      }\n    },\n    {\n      \"column\": \"Detergents_Paper\",\n      \"properties\": {\n        \"dtype\": \"number\",\n        \"std\": 4767,\n        \"min\": 3,\n        \"max\": 40827,\n        \"num_unique_values\": 417,\n        \"samples\": [\n          302,\n          6740\n        ],\n        \"semantic_type\": \"\",\n        \"description\": \"\"\n      }\n    },\n    {\n      \"column\": \"Delicassen\",\n      \"properties\": {\n        \"dtype\": \"number\",\n        \"std\": 2820,\n        \"min\": 3,\n        \"max\": 47943,\n        \"num_unique_values\": 403,\n        \"samples\": [\n          14472,\n          172\n        ],\n        \"semantic_type\": \"\",\n        \"description\": \"\"\n      }\n    },\n    {\n      \"column\": \"Age\",\n      \"properties\": {\n        \"dtype\": \"number\",\n        \"std\": null,\n        \"min\": null,\n        \"max\": null,\n        \"num_unique_values\": 0,\n        \"samples\": [],\n        \"semantic_type\": \"\",\n        \"description\": \"\"\n      }\n    },\n    {\n      \"column\": \"Anual Income\",\n      \"properties\": {\n        \"dtype\": \"number\",\n        \"std\": null,\n        \"min\": null,\n        \"max\": null,\n        \"num_unique_values\": 0,\n        \"samples\": [],\n        \"semantic_type\": \"\",\n        \"description\": \"\"\n      }\n    },\n    {\n      \"column\": \"Spending Score\",\n      \"properties\": {\n        \"dtype\": \"number\",\n        \"std\": null,\n        \"min\": null,\n        \"max\": null,\n        \"num_unique_values\": 0,\n        \"samples\": [],\n        \"semantic_type\": \"\",\n        \"description\": \"\"\n      }\n    },\n    {\n      \"column\": \"Gender\",\n      \"properties\": {\n        \"dtype\": \"number\",\n        \"std\": null,\n        \"min\": null,\n        \"max\": null,\n        \"num_unique_values\": 0,\n        \"samples\": [],\n        \"semantic_type\": \"\",\n        \"description\": \"\"\n      }\n    }\n  ]\n}"
            }
          },
          "metadata": {},
          "execution_count": 5
        }
      ]
    },
    {
      "cell_type": "code",
      "source": [
        "customer_data.shape"
      ],
      "metadata": {
        "colab": {
          "base_uri": "https://localhost:8080/"
        },
        "id": "dWbB8S0WblyY",
        "outputId": "f1d7c42d-a028-4dca-be0b-3d35b7104df7"
      },
      "execution_count": null,
      "outputs": [
        {
          "output_type": "execute_result",
          "data": {
            "text/plain": [
              "(440, 12)"
            ]
          },
          "metadata": {},
          "execution_count": 6
        }
      ]
    },
    {
      "cell_type": "code",
      "source": [
        "customer_data.isnull().sum()\n"
      ],
      "metadata": {
        "colab": {
          "base_uri": "https://localhost:8080/"
        },
        "id": "rWatBTEybuEm",
        "outputId": "2ad6d291-d6d7-47f6-c301-02bc229ea350"
      },
      "execution_count": null,
      "outputs": [
        {
          "output_type": "execute_result",
          "data": {
            "text/plain": [
              "Channel               0\n",
              "Region                0\n",
              "Fresh                 0\n",
              "Milk                  0\n",
              "Grocery               0\n",
              "Frozen                0\n",
              "Detergents_Paper      0\n",
              "Delicassen            0\n",
              "Age                 440\n",
              "Anual Income        440\n",
              "Spending Score      440\n",
              "Gender              440\n",
              "dtype: int64"
            ]
          },
          "metadata": {},
          "execution_count": 7
        }
      ]
    },
    {
      "cell_type": "code",
      "source": [
        "X = customer_data.iloc[:,[3,4]].values\n",
        "print(X)"
      ],
      "metadata": {
        "colab": {
          "base_uri": "https://localhost:8080/"
        },
        "id": "HPU1ts1kbxV7",
        "outputId": "77a3e9e3-1c77-4bb4-e727-9ec03273748b"
      },
      "execution_count": null,
      "outputs": [
        {
          "output_type": "stream",
          "name": "stdout",
          "text": [
            "[[ 9656  7561]\n",
            " [ 9810  9568]\n",
            " [ 8808  7684]\n",
            " [ 1196  4221]\n",
            " [ 5410  7198]\n",
            " [ 8259  5126]\n",
            " [ 3199  6975]\n",
            " [ 4956  9426]\n",
            " [ 3648  6192]\n",
            " [11093 18881]\n",
            " [ 5403 12974]\n",
            " [ 1124  4523]\n",
            " [12319 11757]\n",
            " [ 6208 14982]\n",
            " [ 9465 12091]\n",
            " [ 1114  3821]\n",
            " [ 8816 12121]\n",
            " [ 6157  2933]\n",
            " [ 6327 10099]\n",
            " [ 2495  9464]\n",
            " [ 4519  4602]\n",
            " [  871  2010]\n",
            " [ 1917  4469]\n",
            " [36423 22019]\n",
            " [ 9776 13792]\n",
            " [ 4230  7595]\n",
            " [  961  2861]\n",
            " [  803  3045]\n",
            " [20484 25957]\n",
            " [ 2100  2609]\n",
            " [ 3610 11107]\n",
            " [ 4339  3133]\n",
            " [ 1318  2886]\n",
            " [ 4786  7326]\n",
            " [ 1979  2262]\n",
            " [ 5491 11091]\n",
            " [ 4362  5428]\n",
            " [10556 12477]\n",
            " [15729 16709]\n",
            " [  555   902]\n",
            " [ 4332  4757]\n",
            " [ 3065  5956]\n",
            " [ 7555 14961]\n",
            " [11095 23998]\n",
            " [ 7027 10471]\n",
            " [22044 21531]\n",
            " [14069 21955]\n",
            " [54259 55571]\n",
            " [ 6152 10868]\n",
            " [21412 28921]\n",
            " [ 1095  1980]\n",
            " [ 4051  6996]\n",
            " [ 3916  5876]\n",
            " [10473 11532]\n",
            " [ 1449  1947]\n",
            " [ 3683  5005]\n",
            " [29892 26866]\n",
            " [ 9933 10487]\n",
            " [ 1970  1648]\n",
            " [ 5360  8040]\n",
            " [ 3045  7854]\n",
            " [38369 59598]\n",
            " [ 6245  6544]\n",
            " [11601 15775]\n",
            " [ 1227  3250]\n",
            " [20959 45828]\n",
            " [ 1534  7417]\n",
            " [ 6759 13462]\n",
            " [ 7260  3993]\n",
            " [ 2820  1293]\n",
            " [ 2037  3202]\n",
            " [ 1266 21042]\n",
            " [ 5139  2661]\n",
            " [ 5332  8713]\n",
            " [ 6343  9794]\n",
            " [ 1137     3]\n",
            " [ 3587  6532]\n",
            " [12697 28540]\n",
            " [ 1175  2067]\n",
            " [ 3259  3655]\n",
            " [  829  3009]\n",
            " [ 9540 14403]\n",
            " [ 9232 11009]\n",
            " [ 1563  1783]\n",
            " [ 3327  4814]\n",
            " [46197 92780]\n",
            " [73498 32114]\n",
            " [ 5025  8117]\n",
            " [  542  4042]\n",
            " [ 3836  5330]\n",
            " [  596  1638]\n",
            " [ 2762  2530]\n",
            " [27472 32034]\n",
            " [ 3090  2062]\n",
            " [12220 11323]\n",
            " [ 2920  6252]\n",
            " [ 2616  8118]\n",
            " [  254   610]\n",
            " [  112   778]\n",
            " [ 2182  1909]\n",
            " [ 7779 12144]\n",
            " [10810 16267]\n",
            " [ 6459  7677]\n",
            " [ 3504  8906]\n",
            " [ 2132  3445]\n",
            " [ 1014  3970]\n",
            " [ 6337 10704]\n",
            " [10646 14886]\n",
            " [ 8397  6981]\n",
            " [16729 28986]\n",
            " [ 1648  1694]\n",
            " [11114 17569]\n",
            " [ 2770  2469]\n",
            " [ 2295  1733]\n",
            " [ 1080  2000]\n",
            " [  793  2988]\n",
            " [ 2521  3355]\n",
            " [ 3880  5380]\n",
            " [ 1891  2362]\n",
            " [ 2344  2147]\n",
            " [ 1200  3412]\n",
            " [ 3234  1498]\n",
            " [  201   245]\n",
            " [10769  8814]\n",
            " [ 1642  2961]\n",
            " [ 3473  7102]\n",
            " [ 1840  1658]\n",
            " [ 7243 10685]\n",
            " [ 8847  3823]\n",
            " [  926  1510]\n",
            " [ 2428   699]\n",
            " [  589   314]\n",
            " [ 2032  2479]\n",
            " [ 1042  1235]\n",
            " [ 1882  2174]\n",
            " [ 1289  2591]\n",
            " [ 8579  7030]\n",
            " [ 8080  8282]\n",
            " [ 4257  5034]\n",
            " [ 4979  3343]\n",
            " [ 4280  7305]\n",
            " [13252  5189]\n",
            " [ 7152  8253]\n",
            " [ 1596  1096]\n",
            " [ 3677  1988]\n",
            " [ 8384 34792]\n",
            " [ 1936  2177]\n",
            " [ 3373  2707]\n",
            " [  584   542]\n",
            " [ 1433  1651]\n",
            " [ 1825  1765]\n",
            " [ 3328  2022]\n",
            " [ 1371  3135]\n",
            " [ 9250  2368]\n",
            " [   55   137]\n",
            " [10690 19460]\n",
            " [ 5291 14855]\n",
            " [ 1366  2474]\n",
            " [ 6570  9618]\n",
            " [ 7704 14682]\n",
            " [ 3651 12822]\n",
            " [  540   283]\n",
            " [ 2024  3810]\n",
            " [15726 26870]\n",
            " [ 7603  8584]\n",
            " [12653 19858]\n",
            " [ 6721  9170]\n",
            " [ 3195  3268]\n",
            " [  735   803]\n",
            " [  717  2155]\n",
            " [ 8675 13430]\n",
            " [25862 19816]\n",
            " [ 5479  6536]\n",
            " [ 7677 19805]\n",
            " [ 1208  5241]\n",
            " [ 7845 11874]\n",
            " [ 6958  6536]\n",
            " [ 7330  4533]\n",
            " [ 7075  4945]\n",
            " [ 4888  2500]\n",
            " [ 6036  8887]\n",
            " [29627 18148]\n",
            " [ 8533 10518]\n",
            " [43950 20170]\n",
            " [  918  4710]\n",
            " [ 6448  1139]\n",
            " [  521   854]\n",
            " [ 8002  9819]\n",
            " [ 7639 11687]\n",
            " [11577 11522]\n",
            " [ 6250  1981]\n",
            " [  295  1381]\n",
            " [ 1461  2251]\n",
            " [ 3485 20292]\n",
            " [ 1012  2974]\n",
            " [ 5139  5230]\n",
            " [ 7209  4897]\n",
            " [ 7097 10391]\n",
            " [ 2154  6824]\n",
            " [ 2280  2112]\n",
            " [13240 23127]\n",
            " [14399 24708]\n",
            " [11487  9490]\n",
            " [  685  2216]\n",
            " [  891  5226]\n",
            " [11711 23596]\n",
            " [  780   950]\n",
            " [ 4737  6089]\n",
            " [ 3748  5838]\n",
            " [12729 16767]\n",
            " [ 1895  1393]\n",
            " [28326 39694]\n",
            " [ 1012  2062]\n",
            " [ 6602  6861]\n",
            " [ 6551 11364]\n",
            " [10765 15538]\n",
            " [16599 36486]\n",
            " [ 1475  2046]\n",
            " [ 7504 15205]\n",
            " [  367  1390]\n",
            " [  899  1382]\n",
            " [ 7503 10646]\n",
            " [ 1115  2856]\n",
            " [ 2527  5265]\n",
            " [  659  1499]\n",
            " [ 3243  4157]\n",
            " [ 5921  9212]\n",
            " [ 2204  1563]\n",
            " [  577   572]\n",
            " [ 2746  2501]\n",
            " [ 5989  5615]\n",
            " [10678  3828]\n",
            " [ 1780  3838]\n",
            " [ 4984  3316]\n",
            " [ 2703  3833]\n",
            " [ 6380  2824]\n",
            " [  820  3047]\n",
            " [ 3838   593]\n",
            " [  475   585]\n",
            " [ 2567  3779]\n",
            " [ 3575  7041]\n",
            " [ 1801  2475]\n",
            " [  659  2914]\n",
            " [ 3576  5119]\n",
            " [ 7775 10817]\n",
            " [ 6154 13916]\n",
            " [ 2428  1777]\n",
            " [  346   489]\n",
            " [ 5279  2406]\n",
            " [ 3795  2070]\n",
            " [ 1993  1799]\n",
            " [23133 33586]\n",
            " [ 1860  4740]\n",
            " [ 7961 16966]\n",
            " [17972  4748]\n",
            " [  489  1495]\n",
            " [ 5008  5249]\n",
            " [ 1931  1883]\n",
            " [ 4563  2124]\n",
            " [ 4959  7336]\n",
            " [ 4885  2157]\n",
            " [ 1110  1094]\n",
            " [ 1372  1677]\n",
            " [ 1115  6684]\n",
            " [ 9679 15445]\n",
            " [23527 13699]\n",
            " [ 9763 22182]\n",
            " [ 1222  2576]\n",
            " [ 8053 19847]\n",
            " [  258  1138]\n",
            " [ 1032   975]\n",
            " [ 5007  1563]\n",
            " [ 8323  6869]\n",
            " [ 3045  1493]\n",
            " [ 1703  1841]\n",
            " [ 1610   223]\n",
            " [ 3749  6964]\n",
            " [  829   683]\n",
            " [ 2317  2543]\n",
            " [ 6200  9694]\n",
            " [ 2884  2431]\n",
            " [ 7108  6235]\n",
            " [ 3965  4252]\n",
            " [ 3613  2013]\n",
            " [ 4411 12609]\n",
            " [  640  3600]\n",
            " [ 2247  1242]\n",
            " [ 2102  2828]\n",
            " [  594  1296]\n",
            " [  286   471]\n",
            " [ 2160  2642]\n",
            " [ 3354  3261]\n",
            " [ 3086  4329]\n",
            " [11103 12469]\n",
            " [ 2013  6550]\n",
            " [ 1897  5234]\n",
            " [ 1304  3643]\n",
            " [ 3199  6986]\n",
            " [ 4560  9965]\n",
            " [  879  2060]\n",
            " [ 6243  6360]\n",
            " [13316 20399]\n",
            " [ 5302  9785]\n",
            " [ 3688 13829]\n",
            " [ 7460 24773]\n",
            " [12939  8852]\n",
            " [12867 21570]\n",
            " [ 2374  2842]\n",
            " [ 1020  3007]\n",
            " [20655 13567]\n",
            " [ 1492  2405]\n",
            " [ 2335  8280]\n",
            " [ 3737 19172]\n",
            " [  925  2405]\n",
            " [ 1795  7647]\n",
            " [14982 11924]\n",
            " [ 1375  2201]\n",
            " [ 3088  6114]\n",
            " [ 2713  3558]\n",
            " [25071 17645]\n",
            " [ 3696  2280]\n",
            " [ 1897  5167]\n",
            " [  713  3315]\n",
            " [  944 11593]\n",
            " [ 3587  2464]\n",
            " [16784 13626]\n",
            " [ 1610  1431]\n",
            " [  899  1664]\n",
            " [ 2209  3389]\n",
            " [ 1486  4583]\n",
            " [ 1786  5109]\n",
            " [14881 26839]\n",
            " [ 3216  1447]\n",
            " [ 4980 67298]\n",
            " [  928  2743]\n",
            " [ 6817 10790]\n",
            " [ 1511  1330]\n",
            " [ 1347  2611]\n",
            " [  333  7021]\n",
            " [ 1188  5332]\n",
            " [ 4025  9670]\n",
            " [ 5763 11238]\n",
            " [ 5758  5923]\n",
            " [ 6964 26316]\n",
            " [ 1172  1763]\n",
            " [ 2602  8335]\n",
            " [ 6939 15541]\n",
            " [ 7184 12311]\n",
            " [ 2380  2028]\n",
            " [14641 20521]\n",
            " [ 1099  1997]\n",
            " [10044 22294]\n",
            " [ 1106  1533]\n",
            " [ 6264 21203]\n",
            " [ 7393  2548]\n",
            " [  727  2012]\n",
            " [  134   218]\n",
            " [ 1275 22272]\n",
            " [18664  1660]\n",
            " [ 5878  2109]\n",
            " [ 2872  2006]\n",
            " [  607   864]\n",
            " [ 1601  2453]\n",
            " [  997  4438]\n",
            " [  873  1524]\n",
            " [ 6128  8025]\n",
            " [ 2217  1664]\n",
            " [  894   534]\n",
            " [ 1196  2406]\n",
            " [  337   683]\n",
            " [ 3944  4955]\n",
            " [ 1887  1939]\n",
            " [ 3801  1641]\n",
            " [ 6257  7398]\n",
            " [ 2256  1668]\n",
            " [ 1450  1162]\n",
            " [ 8630 13586]\n",
            " [ 3154  2648]\n",
            " [ 3294  1902]\n",
            " [ 5164 10391]\n",
            " [  944  2146]\n",
            " [ 4591  1617]\n",
            " [ 7435  8469]\n",
            " [ 1364  3450]\n",
            " [21858 15400]\n",
            " [  922  1614]\n",
            " [ 3620  2857]\n",
            " [ 1916  1573]\n",
            " [  848  1172]\n",
            " [ 1530  1422]\n",
            " [ 1181  1328]\n",
            " [ 2761  2313]\n",
            " [ 4180  3600]\n",
            " [ 6730  3842]\n",
            " [  865  3204]\n",
            " [ 1316  1263]\n",
            " [11991  9345]\n",
            " [ 1666  1428]\n",
            " [ 1032   582]\n",
            " [  577   935]\n",
            " [  906  1238]\n",
            " [ 2801  2128]\n",
            " [ 4753  5091]\n",
            " [11006  4604]\n",
            " [ 4613  3444]\n",
            " [ 1046  1167]\n",
            " [ 5010  5026]\n",
            " [12844 18683]\n",
            " [ 3880  6407]\n",
            " [ 3634  6100]\n",
            " [ 2096  4563]\n",
            " [ 3289  3281]\n",
            " [ 3605 12400]\n",
            " [ 4859  6633]\n",
            " [ 1990  3417]\n",
            " [ 6046  8552]\n",
            " [10940 10908]\n",
            " [ 5499 11055]\n",
            " [ 8494 18622]\n",
            " [ 3783  2223]\n",
            " [ 5266 13227]\n",
            " [ 4847  9053]\n",
            " [ 1377  4172]\n",
            " [ 3686  4657]\n",
            " [ 2884 12232]\n",
            " [ 2408  2593]\n",
            " [ 9347 14316]\n",
            " [16687  5429]\n",
            " [ 5970  4910]\n",
            " [ 1750  3580]\n",
            " [ 4230 16483]\n",
            " [ 5506  5160]\n",
            " [ 1162  4754]\n",
            " [ 3218  1493]\n",
            " [ 3922  7994]\n",
            " [12051 16027]\n",
            " [ 1431   764]\n",
            " [15488 30243]\n",
            " [ 1981  2232]\n",
            " [ 1698  2510]]\n"
          ]
        }
      ]
    },
    {
      "cell_type": "code",
      "source": [],
      "metadata": {
        "id": "EmfMzE8zeqqQ"
      },
      "execution_count": null,
      "outputs": []
    },
    {
      "cell_type": "code",
      "source": [],
      "metadata": {
        "id": "3UWbNj8per-t"
      },
      "execution_count": null,
      "outputs": []
    },
    {
      "cell_type": "code",
      "source": [
        "wcss = []\n",
        "\n",
        "for i in range(1,11):\n",
        "  kmeans = KMeans(n_clusters=i, init='k-means++', random_state=42)\n",
        "  kmeans.fit(X)\n",
        "\n",
        "  wcss.append(kmeans.inertia_)"
      ],
      "metadata": {
        "colab": {
          "base_uri": "https://localhost:8080/"
        },
        "id": "yT9z6G_rb2wd",
        "outputId": "2009316a-b86e-481e-b0af-e385ad112b83"
      },
      "execution_count": null,
      "outputs": [
        {
          "output_type": "stream",
          "name": "stderr",
          "text": [
            "/usr/local/lib/python3.10/dist-packages/sklearn/cluster/_kmeans.py:870: FutureWarning:\n",
            "\n",
            "The default value of `n_init` will change from 10 to 'auto' in 1.4. Set the value of `n_init` explicitly to suppress the warning\n",
            "\n",
            "/usr/local/lib/python3.10/dist-packages/sklearn/cluster/_kmeans.py:870: FutureWarning:\n",
            "\n",
            "The default value of `n_init` will change from 10 to 'auto' in 1.4. Set the value of `n_init` explicitly to suppress the warning\n",
            "\n",
            "/usr/local/lib/python3.10/dist-packages/sklearn/cluster/_kmeans.py:870: FutureWarning:\n",
            "\n",
            "The default value of `n_init` will change from 10 to 'auto' in 1.4. Set the value of `n_init` explicitly to suppress the warning\n",
            "\n",
            "/usr/local/lib/python3.10/dist-packages/sklearn/cluster/_kmeans.py:870: FutureWarning:\n",
            "\n",
            "The default value of `n_init` will change from 10 to 'auto' in 1.4. Set the value of `n_init` explicitly to suppress the warning\n",
            "\n",
            "/usr/local/lib/python3.10/dist-packages/sklearn/cluster/_kmeans.py:870: FutureWarning:\n",
            "\n",
            "The default value of `n_init` will change from 10 to 'auto' in 1.4. Set the value of `n_init` explicitly to suppress the warning\n",
            "\n",
            "/usr/local/lib/python3.10/dist-packages/sklearn/cluster/_kmeans.py:870: FutureWarning:\n",
            "\n",
            "The default value of `n_init` will change from 10 to 'auto' in 1.4. Set the value of `n_init` explicitly to suppress the warning\n",
            "\n",
            "/usr/local/lib/python3.10/dist-packages/sklearn/cluster/_kmeans.py:870: FutureWarning:\n",
            "\n",
            "The default value of `n_init` will change from 10 to 'auto' in 1.4. Set the value of `n_init` explicitly to suppress the warning\n",
            "\n",
            "/usr/local/lib/python3.10/dist-packages/sklearn/cluster/_kmeans.py:870: FutureWarning:\n",
            "\n",
            "The default value of `n_init` will change from 10 to 'auto' in 1.4. Set the value of `n_init` explicitly to suppress the warning\n",
            "\n",
            "/usr/local/lib/python3.10/dist-packages/sklearn/cluster/_kmeans.py:870: FutureWarning:\n",
            "\n",
            "The default value of `n_init` will change from 10 to 'auto' in 1.4. Set the value of `n_init` explicitly to suppress the warning\n",
            "\n",
            "/usr/local/lib/python3.10/dist-packages/sklearn/cluster/_kmeans.py:870: FutureWarning:\n",
            "\n",
            "The default value of `n_init` will change from 10 to 'auto' in 1.4. Set the value of `n_init` explicitly to suppress the warning\n",
            "\n"
          ]
        }
      ]
    },
    {
      "cell_type": "code",
      "source": [
        "sns.set()\n",
        "plt.plot(range(1,11), wcss)\n",
        "plt.title('The Elbow Point Graph')\n",
        "plt.xlabel('Number of Clusters')\n",
        "plt.ylabel('WCSS')\n",
        "plt.show()"
      ],
      "metadata": {
        "colab": {
          "base_uri": "https://localhost:8080/",
          "height": 499
        },
        "id": "bS6VMwE-b8D-",
        "outputId": "089e47e8-f1e9-498a-a227-64cb998a0bb7"
      },
      "execution_count": null,
      "outputs": [
        {
          "output_type": "display_data",
          "data": {
            "text/plain": [
              "<Figure size 640x480 with 1 Axes>"
            ],
            "image/png": "[encoded data removed]"
          },
          "metadata": {}
        }
      ]
    },
    {
      "cell_type": "code",
      "source": [
        "X, _ = make_blobs(n_samples=300, centers=4, cluster_std=0.60, random_state=0)"
      ],
      "metadata": {
        "id": "zOjGaonocEqn"
      },
      "execution_count": null,
      "outputs": []
    },
    {
      "cell_type": "code",
      "source": [
        "kmeans = KMeans(n_clusters=4)\n",
        "Y = kmeans.fit_predict(X)"
      ],
      "metadata": {
        "colab": {
          "base_uri": "https://localhost:8080/"
        },
        "id": "gLppJf6Ke3Qq",
        "outputId": "c8125989-ddef-4ef8-ea96-29d5f4c8a026"
      },
      "execution_count": null,
      "outputs": [
        {
          "output_type": "stream",
          "name": "stderr",
          "text": [
            "/usr/local/lib/python3.10/dist-packages/sklearn/cluster/_kmeans.py:870: FutureWarning:\n",
            "\n",
            "The default value of `n_init` will change from 10 to 'auto' in 1.4. Set the value of `n_init` explicitly to suppress the warning\n",
            "\n"
          ]
        }
      ]
    },
    {
      "cell_type": "code",
      "source": [
        "plt.figure(figsize=(8,8))\n",
        "plt.scatter(X[Y==0,0], X[Y==0,1], s=50, c='green', label='Cluster 1')\n",
        "plt.scatter(X[Y==1,0], X[Y==1,1], s=50, c='red', label='Cluster 2')\n",
        "plt.scatter(X[Y==2,0], X[Y==2,1], s=50, c='yellow', label='Cluster 3')\n",
        "plt.scatter(X[Y==3,0], X[Y==3,1], s=50, c='violet', label='Cluster 4')\n",
        "plt.scatter(X[Y==4,0], X[Y==4,1], s=50, c='violet', label='Cluster 5')"
      ],
      "metadata": {
        "colab": {
          "base_uri": "https://localhost:8080/",
          "height": 721
        },
        "id": "671xUChScJG7",
        "outputId": "a5545bdd-c1a7-41e7-a14d-23fcf818f943"
      },
      "execution_count": null,
      "outputs": [
        {
          "output_type": "execute_result",
          "data": {
            "text/plain": [
              "<matplotlib.collections.PathCollection at 0x78472b4a6e00>"
            ]
          },
          "metadata": {},
          "execution_count": 26
        },
        {
          "output_type": "display_data",
          "data": {
            "text/plain": [
              "<Figure size 800x800 with 1 Axes>"
            ],
            "image/png": "[encoded data removed]"
          },
          "metadata": {}
        }
      ]
    },
    {
      "cell_type": "code",
      "source": [
        "Y = kmeans.fit_predict(X)\n",
        "print(Y)"
      ],
      "metadata": {
        "colab": {
          "base_uri": "https://localhost:8080/"
        },
        "id": "WH35SRRwfZSf",
        "outputId": "26bf8a5b-2275-48d3-8fbc-1cca60e9182c"
      },
      "execution_count": null,
      "outputs": [
        {
          "output_type": "stream",
          "name": "stdout",
          "text": [
            "[0 2 1 2 0 0 3 1 2 2 3 2 1 2 0 1 1 0 3 3 0 0 1 3 3 1 0 1 3 1 2 2 1 2 2 2 2\n",
            " 2 3 0 1 3 1 1 3 3 2 3 2 0 3 0 2 0 0 3 2 3 2 0 2 1 2 3 3 3 2 0 2 3 1 3 2 3\n",
            " 3 2 3 1 0 2 0 1 0 0 2 1 0 1 2 2 1 0 2 3 3 1 0 0 1 3 2 0 2 0 1 0 0 1 2 1 3\n",
            " 3 0 2 0 1 2 0 0 1 3 0 3 0 0 0 0 3 0 3 2 3 3 0 2 3 3 2 1 2 2 3 1 3 1 3 2 1\n",
            " 2 2 2 1 2 1 0 3 2 3 0 1 2 1 1 0 1 3 3 1 0 1 1 2 0 1 3 2 0 0 1 3 0 1 3 3 1\n",
            " 1 1 1 0 2 1 3 1 1 3 3 3 1 3 2 1 3 0 3 1 2 3 2 1 2 1 3 1 1 2 3 3 0 0 1 2 0\n",
            " 0 3 0 3 1 2 2 1 1 2 1 0 3 1 0 3 2 3 0 1 0 2 2 2 2 3 3 2 1 3 0 1 3 3 3 0 0\n",
            " 2 1 1 3 0 2 3 1 2 1 0 0 3 3 1 0 0 0 1 2 2 0 0 1 0 0 0 2 3 2 1 0 0 2 2 2 0\n",
            " 0 1 2 3]\n"
          ]
        },
        {
          "output_type": "stream",
          "name": "stderr",
          "text": [
            "/usr/local/lib/python3.10/dist-packages/sklearn/cluster/_kmeans.py:870: FutureWarning:\n",
            "\n",
            "The default value of `n_init` will change from 10 to 'auto' in 1.4. Set the value of `n_init` explicitly to suppress the warning\n",
            "\n"
          ]
        }
      ]
    },
    {
      "cell_type": "code",
      "source": [
        "plt.scatter(kmeans.cluster_centers_[:,0], kmeans.cluster_centers_[:,1], s=100, c='cyan', label='Centroids')\n",
        "plt.title('Customer Groups')\n",
        "plt.xlabel('ID')\n",
        "plt.ylabel('Work load Average/day')\n",
        "plt.show()"
      ],
      "metadata": {
        "colab": {
          "base_uri": "https://localhost:8080/",
          "height": 492
        },
        "id": "gfCmGs2YfeOV",
        "outputId": "44d8058f-baa9-48f6-df0e-6008fbb3d1bb"
      },
      "execution_count": null,
      "outputs": [
        {
          "output_type": "display_data",
          "data": {
            "text/plain": [
              "<Figure size 640x480 with 1 Axes>"
            ],
            "image/png": "[encoded data removed]"
          },
          "metadata": {}
        }
      ]
    },
    {
      "cell_type": "code",
      "source": [
        "kmeans = KMeans(n_clusters=5, random_state=0)\n",
        "cluster_labels = kmeans.fit_predict(X)"
      ],
      "metadata": {
        "colab": {
          "base_uri": "https://localhost:8080/"
        },
        "id": "aa_NIcB9gb2J",
        "outputId": "ad812a57-cae3-4e1b-8663-e118ab8a37c7"
      },
      "execution_count": null,
      "outputs": [
        {
          "output_type": "stream",
          "name": "stderr",
          "text": [
            "/usr/local/lib/python3.10/dist-packages/sklearn/cluster/_kmeans.py:870: FutureWarning:\n",
            "\n",
            "The default value of `n_init` will change from 10 to 'auto' in 1.4. Set the value of `n_init` explicitly to suppress the warning\n",
            "\n"
          ]
        }
      ]
    },
    {
      "cell_type": "code",
      "source": [
        "score = silhouette_score(X, cluster_labels)\n",
        "print(\"Silhouette Score: \", score)"
      ],
      "metadata": {
        "colab": {
          "base_uri": "https://localhost:8080/"
        },
        "id": "ft8KMzrIgipd",
        "outputId": "b4230101-7677-4bc9-8b45-d4a771a8730f"
      },
      "execution_count": null,
      "outputs": [
        {
          "output_type": "stream",
          "name": "stdout",
          "text": [
            "Silhouette Score:  0.5923027677672242\n"
          ]
        }
      ]
    },
    {
      "cell_type": "code",
      "source": [
        "pca = PCA(n_components=2)\n",
        "X_pca = pca.fit_transform(X)"
      ],
      "metadata": {
        "id": "jiV4G-oPg5u9"
      },
      "execution_count": null,
      "outputs": []
    },
    {
      "cell_type": "code",
      "source": [
        "kmeans_pca = KMeans(n_clusters=5, random_state=0)\n",
        "cluster_labels_pca = kmeans_pca.fit_predict(X_pca)"
      ],
      "metadata": {
        "colab": {
          "base_uri": "https://localhost:8080/"
        },
        "id": "2mhO9pcjg9P5",
        "outputId": "b3397e78-84ef-494f-ab35-006def375747"
      },
      "execution_count": null,
      "outputs": [
        {
          "output_type": "stream",
          "name": "stderr",
          "text": [
            "/usr/local/lib/python3.10/dist-packages/sklearn/cluster/_kmeans.py:870: FutureWarning:\n",
            "\n",
            "The default value of `n_init` will change from 10 to 'auto' in 1.4. Set the value of `n_init` explicitly to suppress the warning\n",
            "\n"
          ]
        }
      ]
    },
    {
      "cell_type": "code",
      "source": [
        "score_with_pca = silhouette_score(X_pca, cluster_labels_pca)\n",
        "print(\"Silhouette Score with PCA: \", score_with_pca)"
      ],
      "metadata": {
        "colab": {
          "base_uri": "https://localhost:8080/"
        },
        "id": "6FwGxSDzhAy7",
        "outputId": "1cb3496c-b4f2-4978-e80e-a16956551596"
      },
      "execution_count": null,
      "outputs": [
        {
          "output_type": "stream",
          "name": "stdout",
          "text": [
            "Silhouette Score with PCA:  0.5923027677672242\n"
          ]
        }
      ]
    }
  ]
}